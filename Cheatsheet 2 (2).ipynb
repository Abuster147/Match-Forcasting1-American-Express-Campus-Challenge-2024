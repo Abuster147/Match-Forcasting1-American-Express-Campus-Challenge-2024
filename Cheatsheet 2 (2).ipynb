{
 "cells": [
  {
   "cell_type": "code",
   "execution_count": 1,
   "id": "10c7be39",
   "metadata": {},
   "outputs": [],
   "source": [
    "from IPython.core.interactiveshell import InteractiveShell\n",
    "InteractiveShell.ast_node_interactivity = 'all'"
   ]
  },
  {
   "cell_type": "code",
   "execution_count": 2,
   "id": "9a1412ab",
   "metadata": {},
   "outputs": [],
   "source": [
    "## Load libraries\n",
    "import pandas as pd\n",
    "import numpy as np"
   ]
  },
  {
   "cell_type": "code",
   "execution_count": 3,
   "id": "10c8a0c4",
   "metadata": {},
   "outputs": [],
   "source": [
    "# Display options\n",
    "pd.set_option('display.max_columns',50)"
   ]
  },
  {
   "cell_type": "markdown",
   "id": "110c70c3",
   "metadata": {},
   "source": [
    "## Read data"
   ]
  },
  {
   "cell_type": "code",
   "execution_count": 4,
   "id": "8fdd17fa",
   "metadata": {},
   "outputs": [],
   "source": [
    "train_data = pd.read_csv('train_data_with_samplefeatures.csv')\n",
    "test_data = pd.read_csv('test_data_with_samplefeatures.csv')"
   ]
  },
  {
   "cell_type": "code",
   "execution_count": 5,
   "id": "7b375715",
   "metadata": {},
   "outputs": [
    {
     "data": {
      "text/plain": [
       "(948, 23)"
      ]
     },
     "execution_count": 5,
     "metadata": {},
     "output_type": "execute_result"
    },
    {
     "data": {
      "text/html": [
       "<div>\n",
       "<style scoped>\n",
       "    .dataframe tbody tr th:only-of-type {\n",
       "        vertical-align: middle;\n",
       "    }\n",
       "\n",
       "    .dataframe tbody tr th {\n",
       "        vertical-align: top;\n",
       "    }\n",
       "\n",
       "    .dataframe thead th {\n",
       "        text-align: right;\n",
       "    }\n",
       "</style>\n",
       "<table border=\"1\" class=\"dataframe\">\n",
       "  <thead>\n",
       "    <tr style=\"text-align: right;\">\n",
       "      <th></th>\n",
       "      <th>match id</th>\n",
       "      <th>team1</th>\n",
       "      <th>team1_id</th>\n",
       "      <th>team1_roster_ids</th>\n",
       "      <th>team2</th>\n",
       "      <th>team2_id</th>\n",
       "      <th>team2_roster_ids</th>\n",
       "      <th>winner</th>\n",
       "      <th>winner_id</th>\n",
       "      <th>toss winner</th>\n",
       "      <th>toss decision</th>\n",
       "      <th>venue</th>\n",
       "      <th>city</th>\n",
       "      <th>match_dt</th>\n",
       "      <th>lighting</th>\n",
       "      <th>series_name</th>\n",
       "      <th>season</th>\n",
       "      <th>ground_id</th>\n",
       "      <th>team_count_50runs_last15</th>\n",
       "      <th>team_winp_last5</th>\n",
       "      <th>team1only_avg_runs_last15</th>\n",
       "      <th>team1_winp_team2_last15</th>\n",
       "      <th>ground_avg_runs_last15</th>\n",
       "    </tr>\n",
       "  </thead>\n",
       "  <tbody>\n",
       "    <tr>\n",
       "      <th>0</th>\n",
       "      <td>9331181</td>\n",
       "      <td>Ba</td>\n",
       "      <td>11283</td>\n",
       "      <td>9373356.0:7857520.0:4232164.0:4566540.0:329940...</td>\n",
       "      <td>Hl Ph</td>\n",
       "      <td>12634</td>\n",
       "      <td>3500958.0:4231751.0:2735081.0:2035102.0:369833...</td>\n",
       "      <td>Hl Ph</td>\n",
       "      <td>12634</td>\n",
       "      <td>Hl Ph</td>\n",
       "      <td>field</td>\n",
       "      <td>Hr Ct Sm Ie</td>\n",
       "      <td>Indore</td>\n",
       "      <td>2022-10-20</td>\n",
       "      <td>day/night match</td>\n",
       "      <td>Sd Mq Ai Ty</td>\n",
       "      <td>2022/23</td>\n",
       "      <td>7398</td>\n",
       "      <td>1.666667</td>\n",
       "      <td>0.672131</td>\n",
       "      <td>139.0</td>\n",
       "      <td>100.0</td>\n",
       "      <td>157.178571</td>\n",
       "    </tr>\n",
       "    <tr>\n",
       "      <th>1</th>\n",
       "      <td>8797060</td>\n",
       "      <td>Ed</td>\n",
       "      <td>20</td>\n",
       "      <td>2089079.0:6139370.0:2076192.0:62432.0:2083409....</td>\n",
       "      <td>Wt Is</td>\n",
       "      <td>41</td>\n",
       "      <td>4690258.0:4069666.0:4230127.0:1942317.0:161392...</td>\n",
       "      <td>Ed</td>\n",
       "      <td>20</td>\n",
       "      <td>Wt Is</td>\n",
       "      <td>field</td>\n",
       "      <td>Kn Ol Bn Bs</td>\n",
       "      <td>Bridgetown</td>\n",
       "      <td>2022-01-23</td>\n",
       "      <td>day/night match</td>\n",
       "      <td>Ed tr of Wt Is</td>\n",
       "      <td>2021/22</td>\n",
       "      <td>1406</td>\n",
       "      <td>1.285714</td>\n",
       "      <td>1.952381</td>\n",
       "      <td>156.0</td>\n",
       "      <td>50.0</td>\n",
       "      <td>103.500000</td>\n",
       "    </tr>\n",
       "  </tbody>\n",
       "</table>\n",
       "</div>"
      ],
      "text/plain": [
       "   match id team1  team1_id  \\\n",
       "0   9331181    Ba     11283   \n",
       "1   8797060    Ed        20   \n",
       "\n",
       "                                    team1_roster_ids  team2  team2_id  \\\n",
       "0  9373356.0:7857520.0:4232164.0:4566540.0:329940...  Hl Ph     12634   \n",
       "1  2089079.0:6139370.0:2076192.0:62432.0:2083409....  Wt Is        41   \n",
       "\n",
       "                                    team2_roster_ids winner  winner_id  \\\n",
       "0  3500958.0:4231751.0:2735081.0:2035102.0:369833...  Hl Ph      12634   \n",
       "1  4690258.0:4069666.0:4230127.0:1942317.0:161392...     Ed         20   \n",
       "\n",
       "  toss winner toss decision        venue        city    match_dt  \\\n",
       "0       Hl Ph         field  Hr Ct Sm Ie      Indore  2022-10-20   \n",
       "1       Wt Is         field  Kn Ol Bn Bs  Bridgetown  2022-01-23   \n",
       "\n",
       "          lighting     series_name   season  ground_id  \\\n",
       "0  day/night match     Sd Mq Ai Ty  2022/23       7398   \n",
       "1  day/night match  Ed tr of Wt Is  2021/22       1406   \n",
       "\n",
       "   team_count_50runs_last15  team_winp_last5  team1only_avg_runs_last15  \\\n",
       "0                  1.666667         0.672131                      139.0   \n",
       "1                  1.285714         1.952381                      156.0   \n",
       "\n",
       "   team1_winp_team2_last15  ground_avg_runs_last15  \n",
       "0                    100.0              157.178571  \n",
       "1                     50.0              103.500000  "
      ]
     },
     "execution_count": 5,
     "metadata": {},
     "output_type": "execute_result"
    }
   ],
   "source": [
    "train_data.shape\n",
    "train_data.head(2)"
   ]
  },
  {
   "cell_type": "code",
   "execution_count": 6,
   "id": "4d43fbd7",
   "metadata": {},
   "outputs": [
    {
     "data": {
      "text/plain": [
       "(271, 21)"
      ]
     },
     "execution_count": 6,
     "metadata": {},
     "output_type": "execute_result"
    },
    {
     "data": {
      "text/html": [
       "<div>\n",
       "<style scoped>\n",
       "    .dataframe tbody tr th:only-of-type {\n",
       "        vertical-align: middle;\n",
       "    }\n",
       "\n",
       "    .dataframe tbody tr th {\n",
       "        vertical-align: top;\n",
       "    }\n",
       "\n",
       "    .dataframe thead th {\n",
       "        text-align: right;\n",
       "    }\n",
       "</style>\n",
       "<table border=\"1\" class=\"dataframe\">\n",
       "  <thead>\n",
       "    <tr style=\"text-align: right;\">\n",
       "      <th></th>\n",
       "      <th>match id</th>\n",
       "      <th>team1</th>\n",
       "      <th>team1_id</th>\n",
       "      <th>team1_roster_ids</th>\n",
       "      <th>team2</th>\n",
       "      <th>team2_id</th>\n",
       "      <th>team2_roster_ids</th>\n",
       "      <th>toss winner</th>\n",
       "      <th>toss decision</th>\n",
       "      <th>venue</th>\n",
       "      <th>city</th>\n",
       "      <th>match_dt</th>\n",
       "      <th>lighting</th>\n",
       "      <th>series_name</th>\n",
       "      <th>season</th>\n",
       "      <th>ground_id</th>\n",
       "      <th>team_count_50runs_last15</th>\n",
       "      <th>team_winp_last5</th>\n",
       "      <th>team1only_avg_runs_last15</th>\n",
       "      <th>team1_winp_team2_last15</th>\n",
       "      <th>ground_avg_runs_last15</th>\n",
       "    </tr>\n",
       "  </thead>\n",
       "  <tbody>\n",
       "    <tr>\n",
       "      <th>0</th>\n",
       "      <td>9250275</td>\n",
       "      <td>Jy</td>\n",
       "      <td>28594</td>\n",
       "      <td>7438955.0:8271969.0:8369661.0:3685247.0:259025...</td>\n",
       "      <td>Ud Ss of Aa</td>\n",
       "      <td>90</td>\n",
       "      <td>2436944.0:8117500.0:6703528.0:3010748.0:161387...</td>\n",
       "      <td>Ud Ss of Aa</td>\n",
       "      <td>field</td>\n",
       "      <td>Bo Ac Cb</td>\n",
       "      <td>Bulawayo</td>\n",
       "      <td>2022-07-11</td>\n",
       "      <td>day match</td>\n",
       "      <td>Ud Ss of Aa tr of Ze</td>\n",
       "      <td>2022</td>\n",
       "      <td>3226</td>\n",
       "      <td>0.000000</td>\n",
       "      <td>0.019608</td>\n",
       "      <td>NaN</td>\n",
       "      <td>0.00</td>\n",
       "      <td>NaN</td>\n",
       "    </tr>\n",
       "    <tr>\n",
       "      <th>1</th>\n",
       "      <td>9262189</td>\n",
       "      <td>Ga An Ws</td>\n",
       "      <td>36084</td>\n",
       "      <td>3715690.0:6818622.0:4069666.0:393014.0:4690188...</td>\n",
       "      <td>Ja Ts</td>\n",
       "      <td>36098</td>\n",
       "      <td>4690258.0:3761246.0:8464385.0:5742470.0:315072...</td>\n",
       "      <td>Ja Ts</td>\n",
       "      <td>field</td>\n",
       "      <td>Pe Sm Ga</td>\n",
       "      <td>Providence</td>\n",
       "      <td>2022-09-21</td>\n",
       "      <td>night match</td>\n",
       "      <td>Cn Pr Le</td>\n",
       "      <td>2022</td>\n",
       "      <td>13915</td>\n",
       "      <td>0.615385</td>\n",
       "      <td>0.344262</td>\n",
       "      <td>151.285714</td>\n",
       "      <td>66.67</td>\n",
       "      <td>153.5</td>\n",
       "    </tr>\n",
       "  </tbody>\n",
       "</table>\n",
       "</div>"
      ],
      "text/plain": [
       "   match id     team1  team1_id  \\\n",
       "0   9250275        Jy     28594   \n",
       "1   9262189  Ga An Ws     36084   \n",
       "\n",
       "                                    team1_roster_ids        team2  team2_id  \\\n",
       "0  7438955.0:8271969.0:8369661.0:3685247.0:259025...  Ud Ss of Aa        90   \n",
       "1  3715690.0:6818622.0:4069666.0:393014.0:4690188...        Ja Ts     36098   \n",
       "\n",
       "                                    team2_roster_ids  toss winner  \\\n",
       "0  2436944.0:8117500.0:6703528.0:3010748.0:161387...  Ud Ss of Aa   \n",
       "1  4690258.0:3761246.0:8464385.0:5742470.0:315072...        Ja Ts   \n",
       "\n",
       "  toss decision     venue        city    match_dt     lighting  \\\n",
       "0         field  Bo Ac Cb    Bulawayo  2022-07-11    day match   \n",
       "1         field  Pe Sm Ga  Providence  2022-09-21  night match   \n",
       "\n",
       "            series_name season  ground_id  team_count_50runs_last15  \\\n",
       "0  Ud Ss of Aa tr of Ze   2022       3226                  0.000000   \n",
       "1              Cn Pr Le   2022      13915                  0.615385   \n",
       "\n",
       "   team_winp_last5  team1only_avg_runs_last15  team1_winp_team2_last15  \\\n",
       "0         0.019608                        NaN                     0.00   \n",
       "1         0.344262                 151.285714                    66.67   \n",
       "\n",
       "   ground_avg_runs_last15  \n",
       "0                     NaN  \n",
       "1                   153.5  "
      ]
     },
     "execution_count": 6,
     "metadata": {},
     "output_type": "execute_result"
    }
   ],
   "source": [
    "test_data.shape\n",
    "test_data.head(2)"
   ]
  },
  {
   "cell_type": "markdown",
   "id": "e1411e15",
   "metadata": {},
   "source": [
    "#### Create dependent column"
   ]
  },
  {
   "cell_type": "code",
   "execution_count": 7,
   "id": "ad34ea2c",
   "metadata": {},
   "outputs": [],
   "source": [
    "train_data['winner_01'] = train_data.apply(lambda x: 1 if (x['team2']==x['winner']) else 0, axis=1)"
   ]
  },
  {
   "cell_type": "markdown",
   "id": "3c34fda7",
   "metadata": {},
   "source": [
    "#### Pre process"
   ]
  },
  {
   "cell_type": "code",
   "execution_count": 8,
   "id": "ad85b82e",
   "metadata": {},
   "outputs": [],
   "source": [
    "## Toss winner to numerical - 1 if team2 wins, else 0\n",
    "\n",
    "train_data['toss_winner_01'] = np.where(train_data['toss winner']==train_data['team2'], 1, 0)\n",
    "test_data['toss_winner_01'] = np.where(test_data['toss winner']==test_data['team2'], 1, 0)"
   ]
  },
  {
   "cell_type": "code",
   "execution_count": 9,
   "id": "a2f9c028",
   "metadata": {},
   "outputs": [],
   "source": [
    "## Toss decision - categorical - 1 if winner bats, 0 otherwise\n",
    "\n",
    "train_data['toss_decision_01'] = np.where(train_data['toss decision']=='bat', 1, 0)\n",
    "test_data['toss_decision_01'] = np.where(test_data['toss decision']=='bat', 1, 0)"
   ]
  },
  {
   "cell_type": "markdown",
   "id": "78be5247",
   "metadata": {},
   "source": [
    "#### Selecting relevant columns"
   ]
  },
  {
   "cell_type": "code",
   "execution_count": 10,
   "id": "633229a2",
   "metadata": {},
   "outputs": [],
   "source": [
    "X,y = train_data[['toss_winner_01','toss_decision_01','team_count_50runs_last15','team_winp_last5','team1only_avg_runs_last15','team1_winp_team2_last15','ground_avg_runs_last15']], train_data['winner_01']"
   ]
  },
  {
   "cell_type": "code",
   "execution_count": 11,
   "id": "5594e295",
   "metadata": {},
   "outputs": [],
   "source": [
    "X_test = test_data[X.columns.tolist()]"
   ]
  },
  {
   "cell_type": "markdown",
   "id": "b2520051",
   "metadata": {},
   "source": [
    "#### Imputation"
   ]
  },
  {
   "cell_type": "code",
   "execution_count": 12,
   "id": "0f75cc61",
   "metadata": {},
   "outputs": [
    {
     "data": {
      "text/html": [
       "<div>\n",
       "<style scoped>\n",
       "    .dataframe tbody tr th:only-of-type {\n",
       "        vertical-align: middle;\n",
       "    }\n",
       "\n",
       "    .dataframe tbody tr th {\n",
       "        vertical-align: top;\n",
       "    }\n",
       "\n",
       "    .dataframe thead th {\n",
       "        text-align: right;\n",
       "    }\n",
       "</style>\n",
       "<table border=\"1\" class=\"dataframe\">\n",
       "  <thead>\n",
       "    <tr style=\"text-align: right;\">\n",
       "      <th></th>\n",
       "      <th>index</th>\n",
       "      <th>0</th>\n",
       "    </tr>\n",
       "  </thead>\n",
       "  <tbody>\n",
       "    <tr>\n",
       "      <th>4</th>\n",
       "      <td>team1only_avg_runs_last15</td>\n",
       "      <td>21</td>\n",
       "    </tr>\n",
       "    <tr>\n",
       "      <th>6</th>\n",
       "      <td>ground_avg_runs_last15</td>\n",
       "      <td>53</td>\n",
       "    </tr>\n",
       "  </tbody>\n",
       "</table>\n",
       "</div>"
      ],
      "text/plain": [
       "                       index   0\n",
       "4  team1only_avg_runs_last15  21\n",
       "6     ground_avg_runs_last15  53"
      ]
     },
     "execution_count": 12,
     "metadata": {},
     "output_type": "execute_result"
    },
    {
     "data": {
      "text/html": [
       "<div>\n",
       "<style scoped>\n",
       "    .dataframe tbody tr th:only-of-type {\n",
       "        vertical-align: middle;\n",
       "    }\n",
       "\n",
       "    .dataframe tbody tr th {\n",
       "        vertical-align: top;\n",
       "    }\n",
       "\n",
       "    .dataframe thead th {\n",
       "        text-align: right;\n",
       "    }\n",
       "</style>\n",
       "<table border=\"1\" class=\"dataframe\">\n",
       "  <thead>\n",
       "    <tr style=\"text-align: right;\">\n",
       "      <th></th>\n",
       "      <th>index</th>\n",
       "      <th>0</th>\n",
       "    </tr>\n",
       "  </thead>\n",
       "  <tbody>\n",
       "    <tr>\n",
       "      <th>4</th>\n",
       "      <td>team1only_avg_runs_last15</td>\n",
       "      <td>7</td>\n",
       "    </tr>\n",
       "    <tr>\n",
       "      <th>6</th>\n",
       "      <td>ground_avg_runs_last15</td>\n",
       "      <td>10</td>\n",
       "    </tr>\n",
       "  </tbody>\n",
       "</table>\n",
       "</div>"
      ],
      "text/plain": [
       "                       index   0\n",
       "4  team1only_avg_runs_last15   7\n",
       "6     ground_avg_runs_last15  10"
      ]
     },
     "execution_count": 12,
     "metadata": {},
     "output_type": "execute_result"
    }
   ],
   "source": [
    "X_nans = X.isna().sum().reset_index()\n",
    "X_nans[X_nans[0]!=0]\n",
    "\n",
    "X_test_nans = X_test.isna().sum().reset_index()\n",
    "X_test_nans[X_test_nans[0]!=0]"
   ]
  },
  {
   "cell_type": "code",
   "execution_count": 13,
   "id": "244fc5a1",
   "metadata": {},
   "outputs": [],
   "source": [
    "X.fillna(0, inplace=True)\n",
    "X_test.fillna(0, inplace=True)"
   ]
  },
  {
   "cell_type": "code",
   "execution_count": 14,
   "id": "3f0f3be5",
   "metadata": {},
   "outputs": [
    {
     "data": {
      "text/html": [
       "<div>\n",
       "<style scoped>\n",
       "    .dataframe tbody tr th:only-of-type {\n",
       "        vertical-align: middle;\n",
       "    }\n",
       "\n",
       "    .dataframe tbody tr th {\n",
       "        vertical-align: top;\n",
       "    }\n",
       "\n",
       "    .dataframe thead th {\n",
       "        text-align: right;\n",
       "    }\n",
       "</style>\n",
       "<table border=\"1\" class=\"dataframe\">\n",
       "  <thead>\n",
       "    <tr style=\"text-align: right;\">\n",
       "      <th></th>\n",
       "      <th>index</th>\n",
       "      <th>0</th>\n",
       "    </tr>\n",
       "  </thead>\n",
       "  <tbody>\n",
       "  </tbody>\n",
       "</table>\n",
       "</div>"
      ],
      "text/plain": [
       "Empty DataFrame\n",
       "Columns: [index, 0]\n",
       "Index: []"
      ]
     },
     "execution_count": 14,
     "metadata": {},
     "output_type": "execute_result"
    },
    {
     "data": {
      "text/html": [
       "<div>\n",
       "<style scoped>\n",
       "    .dataframe tbody tr th:only-of-type {\n",
       "        vertical-align: middle;\n",
       "    }\n",
       "\n",
       "    .dataframe tbody tr th {\n",
       "        vertical-align: top;\n",
       "    }\n",
       "\n",
       "    .dataframe thead th {\n",
       "        text-align: right;\n",
       "    }\n",
       "</style>\n",
       "<table border=\"1\" class=\"dataframe\">\n",
       "  <thead>\n",
       "    <tr style=\"text-align: right;\">\n",
       "      <th></th>\n",
       "      <th>index</th>\n",
       "      <th>0</th>\n",
       "    </tr>\n",
       "  </thead>\n",
       "  <tbody>\n",
       "  </tbody>\n",
       "</table>\n",
       "</div>"
      ],
      "text/plain": [
       "Empty DataFrame\n",
       "Columns: [index, 0]\n",
       "Index: []"
      ]
     },
     "execution_count": 14,
     "metadata": {},
     "output_type": "execute_result"
    }
   ],
   "source": [
    "X_nans = X.isna().sum().reset_index()\n",
    "X_nans[X_nans[0]!=0]\n",
    "\n",
    "X_test_nans = X_test.isna().sum().reset_index()\n",
    "X_test_nans[X_test_nans[0]!=0]"
   ]
  },
  {
   "cell_type": "markdown",
   "id": "ce7a9d4b",
   "metadata": {},
   "source": [
    "### Stats"
   ]
  },
  {
   "cell_type": "code",
   "execution_count": 15,
   "id": "5ad69662",
   "metadata": {},
   "outputs": [
    {
     "data": {
      "text/plain": [
       "1    620\n",
       "0    328\n",
       "Name: toss_winner_01, dtype: int64"
      ]
     },
     "execution_count": 15,
     "metadata": {},
     "output_type": "execute_result"
    },
    {
     "data": {
      "text/plain": [
       "0    617\n",
       "1    331\n",
       "Name: toss_decision_01, dtype: int64"
      ]
     },
     "execution_count": 15,
     "metadata": {},
     "output_type": "execute_result"
    },
    {
     "data": {
      "text/plain": [
       "count    948.000000\n",
       "mean       1.202602\n",
       "std        1.008793\n",
       "min        0.083333\n",
       "25%        0.686678\n",
       "50%        1.000000\n",
       "75%        1.400000\n",
       "max       11.000000\n",
       "Name: team_count_50runs_last15, dtype: float64"
      ]
     },
     "execution_count": 15,
     "metadata": {},
     "output_type": "execute_result"
    }
   ],
   "source": [
    "X['toss_winner_01'].value_counts()\n",
    "X['toss_decision_01'].value_counts()\n",
    "X['team_count_50runs_last15'].describe()"
   ]
  },
  {
   "cell_type": "markdown",
   "id": "ac029393",
   "metadata": {},
   "source": [
    "## Model"
   ]
  },
  {
   "cell_type": "markdown",
   "id": "be438d85",
   "metadata": {},
   "source": [
    "#### GBM"
   ]
  },
  {
   "cell_type": "code",
   "execution_count": 16,
   "id": "6c99c8d8",
   "metadata": {},
   "outputs": [],
   "source": [
    "from sklearn.ensemble import GradientBoostingClassifier"
   ]
  },
  {
   "cell_type": "code",
   "execution_count": 17,
   "id": "18df0973",
   "metadata": {},
   "outputs": [],
   "source": [
    "# user-defined parameters\n",
    "\n",
    "algo_name = 'GradientBoostingClassifier'\n",
    "is_ensemble = 'no'\n",
    "n_trees = 10\n",
    "depth = 2\n",
    "lr = 0.1"
   ]
  },
  {
   "cell_type": "markdown",
   "id": "32d53ad2",
   "metadata": {},
   "source": [
    "##### Train"
   ]
  },
  {
   "cell_type": "code",
   "execution_count": 18,
   "id": "7358fe95",
   "metadata": {},
   "outputs": [],
   "source": [
    "clf_gbm = GradientBoostingClassifier(n_estimators = n_trees, max_depth = depth, learning_rate = lr).fit(X,y)"
   ]
  },
  {
   "cell_type": "code",
   "execution_count": 19,
   "id": "a28bc95a",
   "metadata": {},
   "outputs": [],
   "source": [
    "train_data['y_pred_01'] = clf_gbm.predict(X)\n",
    "test_data['y_pred_01'] = clf_gbm.predict(X_test)"
   ]
  },
  {
   "cell_type": "code",
   "execution_count": 20,
   "id": "384659d3",
   "metadata": {},
   "outputs": [],
   "source": [
    "from sklearn.metrics import classification_report"
   ]
  },
  {
   "cell_type": "code",
   "execution_count": 21,
   "id": "d9ba1e75",
   "metadata": {},
   "outputs": [
    {
     "name": "stdout",
     "output_type": "stream",
     "text": [
      "              precision    recall  f1-score   support\n",
      "\n",
      "           0       0.59      0.64      0.61       471\n",
      "           1       0.61      0.56      0.58       477\n",
      "\n",
      "    accuracy                           0.60       948\n",
      "   macro avg       0.60      0.60      0.60       948\n",
      "weighted avg       0.60      0.60      0.60       948\n",
      "\n"
     ]
    }
   ],
   "source": [
    "# Train accuracy\n",
    "print(classification_report(y, clf_gbm.predict(X), labels=[0,1]))"
   ]
  },
  {
   "cell_type": "code",
   "execution_count": 22,
   "id": "16f76719",
   "metadata": {},
   "outputs": [],
   "source": [
    "train_data['win_pred_score'] = clf_gbm.predict_proba(X)[:,1]\n",
    "test_data['win_pred_score'] = clf_gbm.predict_proba(X_test)[:,1]"
   ]
  },
  {
   "cell_type": "markdown",
   "id": "0be5b5c9",
   "metadata": {},
   "source": [
    "##### Getting win_pred_score corresponding to winner team"
   ]
  },
  {
   "cell_type": "code",
   "execution_count": 23,
   "id": "407db0e9",
   "metadata": {},
   "outputs": [],
   "source": [
    "train_data['win_pred_score'] = np.where( (train_data['y_pred_01']==0), (1-train_data['win_pred_score']), train_data['win_pred_score'])\n",
    "test_data['win_pred_score'] = np.where( (test_data['y_pred_01']==0), (1-test_data['win_pred_score']), test_data['win_pred_score'])"
   ]
  },
  {
   "cell_type": "markdown",
   "id": "7c2628c8",
   "metadata": {},
   "source": [
    "##### Getting winner_team_id from custom dependent column"
   ]
  },
  {
   "cell_type": "code",
   "execution_count": 24,
   "id": "34e983a7",
   "metadata": {},
   "outputs": [],
   "source": [
    "train_data['win_pred_team_id'] = np.where( (train_data['y_pred_01']==0), (train_data['team1_id']), train_data['team2_id'])\n",
    "test_data['win_pred_team_id'] = np.where( (test_data['y_pred_01']==0), (test_data['team1_id']), test_data['team2_id'])"
   ]
  },
  {
   "cell_type": "markdown",
   "id": "267a7487",
   "metadata": {},
   "source": [
    "#### Feature importance"
   ]
  },
  {
   "cell_type": "code",
   "execution_count": 25,
   "id": "634139d7",
   "metadata": {},
   "outputs": [
    {
     "data": {
      "text/html": [
       "<div>\n",
       "<style scoped>\n",
       "    .dataframe tbody tr th:only-of-type {\n",
       "        vertical-align: middle;\n",
       "    }\n",
       "\n",
       "    .dataframe tbody tr th {\n",
       "        vertical-align: top;\n",
       "    }\n",
       "\n",
       "    .dataframe thead th {\n",
       "        text-align: right;\n",
       "    }\n",
       "</style>\n",
       "<table border=\"1\" class=\"dataframe\">\n",
       "  <thead>\n",
       "    <tr style=\"text-align: right;\">\n",
       "      <th></th>\n",
       "      <th>feat_name</th>\n",
       "      <th>model_feat_imp_train</th>\n",
       "    </tr>\n",
       "  </thead>\n",
       "  <tbody>\n",
       "    <tr>\n",
       "      <th>0</th>\n",
       "      <td>team_count_50runs_last15</td>\n",
       "      <td>0.506246</td>\n",
       "    </tr>\n",
       "    <tr>\n",
       "      <th>1</th>\n",
       "      <td>team_winp_last5</td>\n",
       "      <td>0.196276</td>\n",
       "    </tr>\n",
       "    <tr>\n",
       "      <th>2</th>\n",
       "      <td>ground_avg_runs_last15</td>\n",
       "      <td>0.188910</td>\n",
       "    </tr>\n",
       "    <tr>\n",
       "      <th>3</th>\n",
       "      <td>team1_winp_team2_last15</td>\n",
       "      <td>0.062128</td>\n",
       "    </tr>\n",
       "    <tr>\n",
       "      <th>4</th>\n",
       "      <td>team1only_avg_runs_last15</td>\n",
       "      <td>0.046440</td>\n",
       "    </tr>\n",
       "    <tr>\n",
       "      <th>5</th>\n",
       "      <td>toss_winner_01</td>\n",
       "      <td>0.000000</td>\n",
       "    </tr>\n",
       "    <tr>\n",
       "      <th>6</th>\n",
       "      <td>toss_decision_01</td>\n",
       "      <td>0.000000</td>\n",
       "    </tr>\n",
       "  </tbody>\n",
       "</table>\n",
       "</div>"
      ],
      "text/plain": [
       "                   feat_name  model_feat_imp_train\n",
       "0   team_count_50runs_last15              0.506246\n",
       "1            team_winp_last5              0.196276\n",
       "2     ground_avg_runs_last15              0.188910\n",
       "3    team1_winp_team2_last15              0.062128\n",
       "4  team1only_avg_runs_last15              0.046440\n",
       "5             toss_winner_01              0.000000\n",
       "6           toss_decision_01              0.000000"
      ]
     },
     "execution_count": 25,
     "metadata": {},
     "output_type": "execute_result"
    }
   ],
   "source": [
    "df_feat_importance = pd.DataFrame({'feat_name':X.columns.tolist(), 'model_feat_imp_train':clf_gbm.feature_importances_}).sort_values(by='model_feat_imp_train', ascending=False)\\\n",
    "                                                                                                                        .reset_index(drop=True).head(10)\n",
    "df_feat_importance"
   ]
  },
  {
   "cell_type": "markdown",
   "id": "9c8b4bbb",
   "metadata": {},
   "source": [
    "## File preparation"
   ]
  },
  {
   "cell_type": "markdown",
   "id": "65187a98",
   "metadata": {},
   "source": [
    "#### File 1"
   ]
  },
  {
   "cell_type": "code",
   "execution_count": 26,
   "id": "4c1bf295",
   "metadata": {},
   "outputs": [],
   "source": [
    "train_data['dataset_type'] = 'train'\n",
    "test_data['dataset_type'] = 'r1'"
   ]
  },
  {
   "cell_type": "code",
   "execution_count": 27,
   "id": "e1548a8b",
   "metadata": {},
   "outputs": [],
   "source": [
    "## refactor\n",
    "\n",
    "df_file1 = pd.concat([test_data[['match id','dataset_type','win_pred_team_id','win_pred_score',] + list(df_feat_importance['feat_name'].head(10))], \\\n",
    "                     train_data[['match id','dataset_type','win_pred_team_id','win_pred_score',] + list(df_feat_importance['feat_name'].head(10))]])\n",
    "\n",
    "renaming_dict = {}\n",
    "for i,col in enumerate(list(df_feat_importance['feat_name'].head(10))):\n",
    "    renaming_dict[col] = f'indep_feat_id{i+1}'\n",
    "df_file1.rename(columns=renaming_dict, inplace=True)\n",
    "\n",
    "for i in range(1,11):\n",
    "    if f'indep_feat_id{i}' not in df_file1.columns:\n",
    "        df_file1[f'indep_feat_id{i}'] = np.nan\n",
    "\n",
    "df_file1['train_algorithm'] = algo_name\n",
    "df_file1['is_ensemble'] = is_ensemble\n",
    "df_file1['train_hps_trees'] = n_trees\n",
    "df_file1['train_hps_depth'] = depth\n",
    "df_file1['train_hps_lr'] = lr"
   ]
  },
  {
   "cell_type": "code",
   "execution_count": 28,
   "id": "6afb36f0",
   "metadata": {},
   "outputs": [
    {
     "data": {
      "text/plain": [
       "(1219, 19)"
      ]
     },
     "execution_count": 28,
     "metadata": {},
     "output_type": "execute_result"
    },
    {
     "data": {
      "text/html": [
       "<div>\n",
       "<style scoped>\n",
       "    .dataframe tbody tr th:only-of-type {\n",
       "        vertical-align: middle;\n",
       "    }\n",
       "\n",
       "    .dataframe tbody tr th {\n",
       "        vertical-align: top;\n",
       "    }\n",
       "\n",
       "    .dataframe thead th {\n",
       "        text-align: right;\n",
       "    }\n",
       "</style>\n",
       "<table border=\"1\" class=\"dataframe\">\n",
       "  <thead>\n",
       "    <tr style=\"text-align: right;\">\n",
       "      <th></th>\n",
       "      <th>match id</th>\n",
       "      <th>dataset_type</th>\n",
       "      <th>win_pred_team_id</th>\n",
       "      <th>win_pred_score</th>\n",
       "      <th>indep_feat_id1</th>\n",
       "      <th>indep_feat_id2</th>\n",
       "      <th>indep_feat_id3</th>\n",
       "      <th>indep_feat_id4</th>\n",
       "      <th>indep_feat_id5</th>\n",
       "      <th>indep_feat_id6</th>\n",
       "      <th>indep_feat_id7</th>\n",
       "      <th>indep_feat_id8</th>\n",
       "      <th>indep_feat_id9</th>\n",
       "      <th>indep_feat_id10</th>\n",
       "      <th>train_algorithm</th>\n",
       "      <th>is_ensemble</th>\n",
       "      <th>train_hps_trees</th>\n",
       "      <th>train_hps_depth</th>\n",
       "      <th>train_hps_lr</th>\n",
       "    </tr>\n",
       "  </thead>\n",
       "  <tbody>\n",
       "    <tr>\n",
       "      <th>0</th>\n",
       "      <td>9250275</td>\n",
       "      <td>r1</td>\n",
       "      <td>90</td>\n",
       "      <td>0.649253</td>\n",
       "      <td>0.000000</td>\n",
       "      <td>0.019608</td>\n",
       "      <td>NaN</td>\n",
       "      <td>0.00</td>\n",
       "      <td>NaN</td>\n",
       "      <td>1</td>\n",
       "      <td>0</td>\n",
       "      <td>NaN</td>\n",
       "      <td>NaN</td>\n",
       "      <td>NaN</td>\n",
       "      <td>GradientBoostingClassifier</td>\n",
       "      <td>no</td>\n",
       "      <td>10</td>\n",
       "      <td>2</td>\n",
       "      <td>0.1</td>\n",
       "    </tr>\n",
       "    <tr>\n",
       "      <th>1</th>\n",
       "      <td>9262189</td>\n",
       "      <td>r1</td>\n",
       "      <td>36098</td>\n",
       "      <td>0.565718</td>\n",
       "      <td>0.615385</td>\n",
       "      <td>0.344262</td>\n",
       "      <td>153.500</td>\n",
       "      <td>66.67</td>\n",
       "      <td>151.285714</td>\n",
       "      <td>1</td>\n",
       "      <td>0</td>\n",
       "      <td>NaN</td>\n",
       "      <td>NaN</td>\n",
       "      <td>NaN</td>\n",
       "      <td>GradientBoostingClassifier</td>\n",
       "      <td>no</td>\n",
       "      <td>10</td>\n",
       "      <td>2</td>\n",
       "      <td>0.1</td>\n",
       "    </tr>\n",
       "    <tr>\n",
       "      <th>2</th>\n",
       "      <td>9128776</td>\n",
       "      <td>r1</td>\n",
       "      <td>48334</td>\n",
       "      <td>0.523879</td>\n",
       "      <td>0.842105</td>\n",
       "      <td>0.753086</td>\n",
       "      <td>179.625</td>\n",
       "      <td>100.00</td>\n",
       "      <td>171.066667</td>\n",
       "      <td>0</td>\n",
       "      <td>1</td>\n",
       "      <td>NaN</td>\n",
       "      <td>NaN</td>\n",
       "      <td>NaN</td>\n",
       "      <td>GradientBoostingClassifier</td>\n",
       "      <td>no</td>\n",
       "      <td>10</td>\n",
       "      <td>2</td>\n",
       "      <td>0.1</td>\n",
       "    </tr>\n",
       "    <tr>\n",
       "      <th>3</th>\n",
       "      <td>9586919</td>\n",
       "      <td>r1</td>\n",
       "      <td>36112</td>\n",
       "      <td>0.526343</td>\n",
       "      <td>0.285714</td>\n",
       "      <td>1.487805</td>\n",
       "      <td>155.500</td>\n",
       "      <td>75.00</td>\n",
       "      <td>166.000000</td>\n",
       "      <td>1</td>\n",
       "      <td>0</td>\n",
       "      <td>NaN</td>\n",
       "      <td>NaN</td>\n",
       "      <td>NaN</td>\n",
       "      <td>GradientBoostingClassifier</td>\n",
       "      <td>no</td>\n",
       "      <td>10</td>\n",
       "      <td>2</td>\n",
       "      <td>0.1</td>\n",
       "    </tr>\n",
       "    <tr>\n",
       "      <th>4</th>\n",
       "      <td>9128538</td>\n",
       "      <td>r1</td>\n",
       "      <td>30414</td>\n",
       "      <td>0.536829</td>\n",
       "      <td>2.375000</td>\n",
       "      <td>0.310330</td>\n",
       "      <td>164.125</td>\n",
       "      <td>0.00</td>\n",
       "      <td>169.933333</td>\n",
       "      <td>1</td>\n",
       "      <td>0</td>\n",
       "      <td>NaN</td>\n",
       "      <td>NaN</td>\n",
       "      <td>NaN</td>\n",
       "      <td>GradientBoostingClassifier</td>\n",
       "      <td>no</td>\n",
       "      <td>10</td>\n",
       "      <td>2</td>\n",
       "      <td>0.1</td>\n",
       "    </tr>\n",
       "  </tbody>\n",
       "</table>\n",
       "</div>"
      ],
      "text/plain": [
       "   match id dataset_type  win_pred_team_id  win_pred_score  indep_feat_id1  \\\n",
       "0   9250275           r1                90        0.649253        0.000000   \n",
       "1   9262189           r1             36098        0.565718        0.615385   \n",
       "2   9128776           r1             48334        0.523879        0.842105   \n",
       "3   9586919           r1             36112        0.526343        0.285714   \n",
       "4   9128538           r1             30414        0.536829        2.375000   \n",
       "\n",
       "   indep_feat_id2  indep_feat_id3  indep_feat_id4  indep_feat_id5  \\\n",
       "0        0.019608             NaN            0.00             NaN   \n",
       "1        0.344262         153.500           66.67      151.285714   \n",
       "2        0.753086         179.625          100.00      171.066667   \n",
       "3        1.487805         155.500           75.00      166.000000   \n",
       "4        0.310330         164.125            0.00      169.933333   \n",
       "\n",
       "   indep_feat_id6  indep_feat_id7  indep_feat_id8  indep_feat_id9  \\\n",
       "0               1               0             NaN             NaN   \n",
       "1               1               0             NaN             NaN   \n",
       "2               0               1             NaN             NaN   \n",
       "3               1               0             NaN             NaN   \n",
       "4               1               0             NaN             NaN   \n",
       "\n",
       "   indep_feat_id10             train_algorithm is_ensemble  train_hps_trees  \\\n",
       "0              NaN  GradientBoostingClassifier          no               10   \n",
       "1              NaN  GradientBoostingClassifier          no               10   \n",
       "2              NaN  GradientBoostingClassifier          no               10   \n",
       "3              NaN  GradientBoostingClassifier          no               10   \n",
       "4              NaN  GradientBoostingClassifier          no               10   \n",
       "\n",
       "   train_hps_depth  train_hps_lr  \n",
       "0                2           0.1  \n",
       "1                2           0.1  \n",
       "2                2           0.1  \n",
       "3                2           0.1  \n",
       "4                2           0.1  "
      ]
     },
     "execution_count": 28,
     "metadata": {},
     "output_type": "execute_result"
    }
   ],
   "source": [
    "df_file1.shape\n",
    "df_file1.head()"
   ]
  },
  {
   "cell_type": "markdown",
   "id": "45c28c74",
   "metadata": {},
   "source": [
    "#### File 2"
   ]
  },
  {
   "cell_type": "code",
   "execution_count": 29,
   "id": "130decf7",
   "metadata": {},
   "outputs": [],
   "source": [
    "feature_desc = {'team_count_50runs_last15':'Ratio of number of 50s by players in team1 to number of 50s by players in team2 in last 15 games',\\\n",
    "               'team_winp_last5':'Ratio of team1\\'s win % to team2\\'s win % in last 5 games',\\\n",
    "               'ground_avg_runs_last15':'average runs scored in the ground in last 15 games',\\\n",
    "               'team1_winp_team2_last15':'Team1\\'s win percentage against Team2 in last 15 games',\\\n",
    "               'team1only_avg_runs_last15':'team1\\'s avg inning runs in last 15 games',\\\n",
    "                \n",
    "               'season_num' : 'Numerical form of season. Takes 1 for oldest season and increases for latest seasons.',\\\n",
    "               'toss_winner_01' : 'Toss winner to numerical - 1 if team2 wins, else 0',\\\n",
    "               'toss_decision_01' : 'Toss decision - categorical - 1 if winner bats, 0 otherwise'}"
   ]
  },
  {
   "cell_type": "code",
   "execution_count": 30,
   "id": "795f5c7e",
   "metadata": {},
   "outputs": [],
   "source": [
    "# df_feat_importance.rename(index={0:'feat_id'}, inplace=True)\n",
    "df_file2 = df_feat_importance\n",
    "df_file2['feat_id'] = [i+1 for i in df_file2.index]\n",
    "df_file2['feat_rank_train'] = [i+1 for i in df_file2.index]\n",
    "df_file2 = df_file2.set_index('feat_id')\n",
    "df_file2['feat_description'] = df_file2['feat_name'].map(feature_desc)"
   ]
  },
  {
   "cell_type": "code",
   "execution_count": 31,
   "id": "b54dd2a5",
   "metadata": {},
   "outputs": [
    {
     "data": {
      "text/html": [
       "<div>\n",
       "<style scoped>\n",
       "    .dataframe tbody tr th:only-of-type {\n",
       "        vertical-align: middle;\n",
       "    }\n",
       "\n",
       "    .dataframe tbody tr th {\n",
       "        vertical-align: top;\n",
       "    }\n",
       "\n",
       "    .dataframe thead th {\n",
       "        text-align: right;\n",
       "    }\n",
       "</style>\n",
       "<table border=\"1\" class=\"dataframe\">\n",
       "  <thead>\n",
       "    <tr style=\"text-align: right;\">\n",
       "      <th></th>\n",
       "      <th>feat_name</th>\n",
       "      <th>model_feat_imp_train</th>\n",
       "      <th>feat_rank_train</th>\n",
       "      <th>feat_description</th>\n",
       "    </tr>\n",
       "    <tr>\n",
       "      <th>feat_id</th>\n",
       "      <th></th>\n",
       "      <th></th>\n",
       "      <th></th>\n",
       "      <th></th>\n",
       "    </tr>\n",
       "  </thead>\n",
       "  <tbody>\n",
       "    <tr>\n",
       "      <th>1</th>\n",
       "      <td>team_count_50runs_last15</td>\n",
       "      <td>0.506246</td>\n",
       "      <td>1</td>\n",
       "      <td>Ratio of number of 50s by players in team1 to ...</td>\n",
       "    </tr>\n",
       "    <tr>\n",
       "      <th>2</th>\n",
       "      <td>team_winp_last5</td>\n",
       "      <td>0.196276</td>\n",
       "      <td>2</td>\n",
       "      <td>Ratio of team1's win % to team2's win % in las...</td>\n",
       "    </tr>\n",
       "    <tr>\n",
       "      <th>3</th>\n",
       "      <td>ground_avg_runs_last15</td>\n",
       "      <td>0.188910</td>\n",
       "      <td>3</td>\n",
       "      <td>average runs scored in the ground in last 15 g...</td>\n",
       "    </tr>\n",
       "    <tr>\n",
       "      <th>4</th>\n",
       "      <td>team1_winp_team2_last15</td>\n",
       "      <td>0.062128</td>\n",
       "      <td>4</td>\n",
       "      <td>Team1's win percentage against Team2 in last 1...</td>\n",
       "    </tr>\n",
       "    <tr>\n",
       "      <th>5</th>\n",
       "      <td>team1only_avg_runs_last15</td>\n",
       "      <td>0.046440</td>\n",
       "      <td>5</td>\n",
       "      <td>team1's avg inning runs in last 15 games</td>\n",
       "    </tr>\n",
       "    <tr>\n",
       "      <th>6</th>\n",
       "      <td>toss_winner_01</td>\n",
       "      <td>0.000000</td>\n",
       "      <td>6</td>\n",
       "      <td>Toss winner to numerical - 1 if team2 wins, el...</td>\n",
       "    </tr>\n",
       "    <tr>\n",
       "      <th>7</th>\n",
       "      <td>toss_decision_01</td>\n",
       "      <td>0.000000</td>\n",
       "      <td>7</td>\n",
       "      <td>Toss decision - categorical - 1 if winner bats...</td>\n",
       "    </tr>\n",
       "  </tbody>\n",
       "</table>\n",
       "</div>"
      ],
      "text/plain": [
       "                         feat_name  model_feat_imp_train  feat_rank_train  \\\n",
       "feat_id                                                                     \n",
       "1         team_count_50runs_last15              0.506246                1   \n",
       "2                  team_winp_last5              0.196276                2   \n",
       "3           ground_avg_runs_last15              0.188910                3   \n",
       "4          team1_winp_team2_last15              0.062128                4   \n",
       "5        team1only_avg_runs_last15              0.046440                5   \n",
       "6                   toss_winner_01              0.000000                6   \n",
       "7                 toss_decision_01              0.000000                7   \n",
       "\n",
       "                                          feat_description  \n",
       "feat_id                                                     \n",
       "1        Ratio of number of 50s by players in team1 to ...  \n",
       "2        Ratio of team1's win % to team2's win % in las...  \n",
       "3        average runs scored in the ground in last 15 g...  \n",
       "4        Team1's win percentage against Team2 in last 1...  \n",
       "5                 team1's avg inning runs in last 15 games  \n",
       "6        Toss winner to numerical - 1 if team2 wins, el...  \n",
       "7        Toss decision - categorical - 1 if winner bats...  "
      ]
     },
     "execution_count": 31,
     "metadata": {},
     "output_type": "execute_result"
    }
   ],
   "source": [
    "df_file2"
   ]
  },
  {
   "cell_type": "markdown",
   "id": "a9b3882b",
   "metadata": {},
   "source": [
    "## Save"
   ]
  },
  {
   "cell_type": "code",
   "execution_count": null,
   "id": "2ccda0f3",
   "metadata": {},
   "outputs": [],
   "source": [
    "df_file1.to_csv('file1.csv', index=False)\n",
    "df_file2.to_csv('file2.csv')"
   ]
  }
 ],
 "metadata": {
  "kernelspec": {
   "display_name": "conda_pytorch_p310",
   "language": "python",
   "name": "conda_pytorch_p310"
  },
  "language_info": {
   "codemirror_mode": {
    "name": "ipython",
    "version": 3
   },
   "file_extension": ".py",
   "mimetype": "text/x-python",
   "name": "python",
   "nbconvert_exporter": "python",
   "pygments_lexer": "ipython3",
   "version": "3.10.14"
  }
 },
 "nbformat": 4,
 "nbformat_minor": 5
}
